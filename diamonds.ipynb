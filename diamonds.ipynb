{
 "cells": [
  {
   "cell_type": "markdown",
   "id": "a58fe756-e0b9-4129-8341-f3bfb6c114bd",
   "metadata": {},
   "source": [
    "# Diamonds Data Analysis"
   ]
  },
  {
   "cell_type": "code",
   "execution_count": null,
   "id": "afc668d7-90b7-4713-bea5-f6195af30314",
   "metadata": {},
   "outputs": [],
   "source": [
    "# Sadra\n",
    "# testsdasd"
   ]
  },
  {
   "cell_type": "code",
   "execution_count": null,
   "id": "dfd2c4fb-9d2a-4388-a9cc-723adf4487bb",
   "metadata": {},
   "outputs": [],
   "source": [
    "# Sadra 2"
   ]
  },
  {
   "cell_type": "code",
   "execution_count": null,
   "id": "ebefe581-e6a2-4b5a-a19b-8cb4467fe396",
   "metadata": {},
   "outputs": [],
   "source": [
    "# Joshua\n",
    "# test test"
   ]
  },
  {
   "cell_type": "code",
   "execution_count": null,
   "id": "2cd23938-a2e3-41c5-8d60-bcfa64afc8fc",
   "metadata": {},
   "outputs": [],
   "source": [
    "# Joshua 2\n",
    "# test test"
   ]
  },
  {
   "cell_type": "code",
   "execution_count": 1,
   "id": "e917de1c-fbb7-406e-829c-6a5f44fa2554",
   "metadata": {
    "tags": []
   },
   "outputs": [
    {
     "name": "stderr",
     "output_type": "stream",
     "text": [
      "── \u001b[1mAttaching packages\u001b[22m ─────────────────────────────────────── tidyverse 1.3.2 ──\n",
      "\u001b[32m✔\u001b[39m \u001b[34mggplot2\u001b[39m 3.4.2     \u001b[32m✔\u001b[39m \u001b[34mpurrr  \u001b[39m 1.0.1\n",
      "\u001b[32m✔\u001b[39m \u001b[34mtibble \u001b[39m 3.2.1     \u001b[32m✔\u001b[39m \u001b[34mdplyr  \u001b[39m 1.1.1\n",
      "\u001b[32m✔\u001b[39m \u001b[34mtidyr  \u001b[39m 1.3.0     \u001b[32m✔\u001b[39m \u001b[34mstringr\u001b[39m 1.5.0\n",
      "\u001b[32m✔\u001b[39m \u001b[34mreadr  \u001b[39m 2.1.3     \u001b[32m✔\u001b[39m \u001b[34mforcats\u001b[39m 0.5.2\n",
      "── \u001b[1mConflicts\u001b[22m ────────────────────────────────────────── tidyverse_conflicts() ──\n",
      "\u001b[31m✖\u001b[39m \u001b[34mdplyr\u001b[39m::\u001b[32mfilter()\u001b[39m masks \u001b[34mstats\u001b[39m::filter()\n",
      "\u001b[31m✖\u001b[39m \u001b[34mdplyr\u001b[39m::\u001b[32mlag()\u001b[39m    masks \u001b[34mstats\u001b[39m::lag()\n",
      "── \u001b[1mAttaching packages\u001b[22m ────────────────────────────────────── tidymodels 1.0.0 ──\n",
      "\n",
      "\u001b[32m✔\u001b[39m \u001b[34mbroom       \u001b[39m 1.0.2     \u001b[32m✔\u001b[39m \u001b[34mrsample     \u001b[39m 1.1.1\n",
      "\u001b[32m✔\u001b[39m \u001b[34mdials       \u001b[39m 1.1.0     \u001b[32m✔\u001b[39m \u001b[34mtune        \u001b[39m 1.0.1\n",
      "\u001b[32m✔\u001b[39m \u001b[34minfer       \u001b[39m 1.0.4     \u001b[32m✔\u001b[39m \u001b[34mworkflows   \u001b[39m 1.1.2\n",
      "\u001b[32m✔\u001b[39m \u001b[34mmodeldata   \u001b[39m 1.0.1     \u001b[32m✔\u001b[39m \u001b[34mworkflowsets\u001b[39m 1.0.0\n",
      "\u001b[32m✔\u001b[39m \u001b[34mparsnip     \u001b[39m 1.0.3     \u001b[32m✔\u001b[39m \u001b[34myardstick   \u001b[39m 1.1.0\n",
      "\u001b[32m✔\u001b[39m \u001b[34mrecipes     \u001b[39m 1.0.4     \n",
      "\n",
      "── \u001b[1mConflicts\u001b[22m ───────────────────────────────────────── tidymodels_conflicts() ──\n",
      "\u001b[31m✖\u001b[39m \u001b[34mscales\u001b[39m::\u001b[32mdiscard()\u001b[39m masks \u001b[34mpurrr\u001b[39m::discard()\n",
      "\u001b[31m✖\u001b[39m \u001b[34mdplyr\u001b[39m::\u001b[32mfilter()\u001b[39m   masks \u001b[34mstats\u001b[39m::filter()\n",
      "\u001b[31m✖\u001b[39m \u001b[34mrecipes\u001b[39m::\u001b[32mfixed()\u001b[39m  masks \u001b[34mstringr\u001b[39m::fixed()\n",
      "\u001b[31m✖\u001b[39m \u001b[34mdplyr\u001b[39m::\u001b[32mlag()\u001b[39m      masks \u001b[34mstats\u001b[39m::lag()\n",
      "\u001b[31m✖\u001b[39m \u001b[34myardstick\u001b[39m::\u001b[32mspec()\u001b[39m masks \u001b[34mreadr\u001b[39m::spec()\n",
      "\u001b[31m✖\u001b[39m \u001b[34mrecipes\u001b[39m::\u001b[32mstep()\u001b[39m   masks \u001b[34mstats\u001b[39m::step()\n",
      "\u001b[34m•\u001b[39m Use \u001b[32mtidymodels_prefer()\u001b[39m to resolve common conflicts.\n",
      "\n"
     ]
    }
   ],
   "source": [
    "# Maiah\n",
    "### Run this cell before continuing.\n",
    "library(tidyverse)\n",
    "library(tidymodels)\n",
    "options(repr.matrix.max.rows = 6)"
   ]
  },
  {
   "cell_type": "code",
   "execution_count": 16,
   "id": "7ba7ed56-2b87-4ef9-b893-c75f223e723c",
   "metadata": {
    "tags": []
   },
   "outputs": [
    {
     "name": "stderr",
     "output_type": "stream",
     "text": [
      "\u001b[1mRows: \u001b[22m\u001b[34m53940\u001b[39m \u001b[1mColumns: \u001b[22m\u001b[34m10\u001b[39m\n",
      "\u001b[36m──\u001b[39m \u001b[1mColumn specification\u001b[22m \u001b[36m────────────────────────────────────────────────────────\u001b[39m\n",
      "\u001b[1mDelimiter:\u001b[22m \",\"\n",
      "\u001b[31mchr\u001b[39m (3): cut, color, clarity\n",
      "\u001b[32mdbl\u001b[39m (7): carat, depth, table, price, x, y, z\n",
      "\n",
      "\u001b[36mℹ\u001b[39m Use `spec()` to retrieve the full column specification for this data.\n",
      "\u001b[36mℹ\u001b[39m Specify the column types or set `show_col_types = FALSE` to quiet this message.\n"
     ]
    },
    {
     "data": {
      "text/html": [
       "<table class=\"dataframe\">\n",
       "<caption>A tibble: 53940 × 9</caption>\n",
       "<thead>\n",
       "\t<tr><th scope=col>carat</th><th scope=col>cut</th><th scope=col>color</th><th scope=col>total_depth_percentage</th><th scope=col>table</th><th scope=col>price</th><th scope=col>length</th><th scope=col>width</th><th scope=col>depth</th></tr>\n",
       "\t<tr><th scope=col>&lt;dbl&gt;</th><th scope=col>&lt;fct&gt;</th><th scope=col>&lt;fct&gt;</th><th scope=col>&lt;dbl&gt;</th><th scope=col>&lt;dbl&gt;</th><th scope=col>&lt;dbl&gt;</th><th scope=col>&lt;dbl&gt;</th><th scope=col>&lt;dbl&gt;</th><th scope=col>&lt;dbl&gt;</th></tr>\n",
       "</thead>\n",
       "<tbody>\n",
       "\t<tr><td>0.23</td><td>Ideal  </td><td>Colorless</td><td>61.5</td><td>55</td><td>326</td><td>3.95</td><td>3.98</td><td>2.43</td></tr>\n",
       "\t<tr><td>0.21</td><td>Premium</td><td>Colorless</td><td>59.8</td><td>61</td><td>326</td><td>3.89</td><td>3.84</td><td>2.31</td></tr>\n",
       "\t<tr><td>0.23</td><td>Good   </td><td>Colorless</td><td>56.9</td><td>65</td><td>327</td><td>4.05</td><td>4.07</td><td>2.31</td></tr>\n",
       "\t<tr><td>⋮</td><td>⋮</td><td>⋮</td><td>⋮</td><td>⋮</td><td>⋮</td><td>⋮</td><td>⋮</td><td>⋮</td></tr>\n",
       "\t<tr><td>0.70</td><td>Very Good</td><td>Colorless  </td><td>62.8</td><td>60</td><td>2757</td><td>5.66</td><td>5.68</td><td>3.56</td></tr>\n",
       "\t<tr><td>0.86</td><td>Premium  </td><td>Faint Color</td><td>61.0</td><td>58</td><td>2757</td><td>6.15</td><td>6.12</td><td>3.74</td></tr>\n",
       "\t<tr><td>0.75</td><td>Ideal    </td><td>Colorless  </td><td>62.2</td><td>55</td><td>2757</td><td>5.83</td><td>5.87</td><td>3.64</td></tr>\n",
       "</tbody>\n",
       "</table>\n"
      ],
      "text/latex": [
       "A tibble: 53940 × 9\n",
       "\\begin{tabular}{lllllllll}\n",
       " carat & cut & color & total\\_depth\\_percentage & table & price & length & width & depth\\\\\n",
       " <dbl> & <fct> & <fct> & <dbl> & <dbl> & <dbl> & <dbl> & <dbl> & <dbl>\\\\\n",
       "\\hline\n",
       "\t 0.23 & Ideal   & Colorless & 61.5 & 55 & 326 & 3.95 & 3.98 & 2.43\\\\\n",
       "\t 0.21 & Premium & Colorless & 59.8 & 61 & 326 & 3.89 & 3.84 & 2.31\\\\\n",
       "\t 0.23 & Good    & Colorless & 56.9 & 65 & 327 & 4.05 & 4.07 & 2.31\\\\\n",
       "\t ⋮ & ⋮ & ⋮ & ⋮ & ⋮ & ⋮ & ⋮ & ⋮ & ⋮\\\\\n",
       "\t 0.70 & Very Good & Colorless   & 62.8 & 60 & 2757 & 5.66 & 5.68 & 3.56\\\\\n",
       "\t 0.86 & Premium   & Faint Color & 61.0 & 58 & 2757 & 6.15 & 6.12 & 3.74\\\\\n",
       "\t 0.75 & Ideal     & Colorless   & 62.2 & 55 & 2757 & 5.83 & 5.87 & 3.64\\\\\n",
       "\\end{tabular}\n"
      ],
      "text/markdown": [
       "\n",
       "A tibble: 53940 × 9\n",
       "\n",
       "| carat &lt;dbl&gt; | cut &lt;fct&gt; | color &lt;fct&gt; | total_depth_percentage &lt;dbl&gt; | table &lt;dbl&gt; | price &lt;dbl&gt; | length &lt;dbl&gt; | width &lt;dbl&gt; | depth &lt;dbl&gt; |\n",
       "|---|---|---|---|---|---|---|---|---|\n",
       "| 0.23 | Ideal   | Colorless | 61.5 | 55 | 326 | 3.95 | 3.98 | 2.43 |\n",
       "| 0.21 | Premium | Colorless | 59.8 | 61 | 326 | 3.89 | 3.84 | 2.31 |\n",
       "| 0.23 | Good    | Colorless | 56.9 | 65 | 327 | 4.05 | 4.07 | 2.31 |\n",
       "| ⋮ | ⋮ | ⋮ | ⋮ | ⋮ | ⋮ | ⋮ | ⋮ | ⋮ |\n",
       "| 0.70 | Very Good | Colorless   | 62.8 | 60 | 2757 | 5.66 | 5.68 | 3.56 |\n",
       "| 0.86 | Premium   | Faint Color | 61.0 | 58 | 2757 | 6.15 | 6.12 | 3.74 |\n",
       "| 0.75 | Ideal     | Colorless   | 62.2 | 55 | 2757 | 5.83 | 5.87 | 3.64 |\n",
       "\n"
      ],
      "text/plain": [
       "      carat cut       color       total_depth_percentage table price length\n",
       "1     0.23  Ideal     Colorless   61.5                   55    326   3.95  \n",
       "2     0.21  Premium   Colorless   59.8                   61    326   3.89  \n",
       "3     0.23  Good      Colorless   56.9                   65    327   4.05  \n",
       "⋮     ⋮     ⋮         ⋮           ⋮                      ⋮     ⋮     ⋮     \n",
       "53938 0.70  Very Good Colorless   62.8                   60    2757  5.66  \n",
       "53939 0.86  Premium   Faint Color 61.0                   58    2757  6.15  \n",
       "53940 0.75  Ideal     Colorless   62.2                   55    2757  5.83  \n",
       "      width depth\n",
       "1     3.98  2.43 \n",
       "2     3.84  2.31 \n",
       "3     4.07  2.31 \n",
       "⋮     ⋮     ⋮    \n",
       "53938 5.68  3.56 \n",
       "53939 6.12  3.74 \n",
       "53940 5.87  3.64 "
      ]
     },
     "metadata": {},
     "output_type": "display_data"
    },
    {
     "data": {
      "text/html": [
       "<table class=\"dataframe\">\n",
       "<caption>A tibble: 5 × 3</caption>\n",
       "<thead>\n",
       "\t<tr><th scope=col>cut</th><th scope=col>n</th><th scope=col>percent</th></tr>\n",
       "\t<tr><th scope=col>&lt;fct&gt;</th><th scope=col>&lt;int&gt;</th><th scope=col>&lt;dbl&gt;</th></tr>\n",
       "</thead>\n",
       "<tbody>\n",
       "\t<tr><td>Ideal    </td><td>16125</td><td>39.861073</td></tr>\n",
       "\t<tr><td>Premium  </td><td>10327</td><td>25.528391</td></tr>\n",
       "\t<tr><td>Good     </td><td> 3691</td><td> 9.124169</td></tr>\n",
       "\t<tr><td>Very Good</td><td> 9080</td><td>22.445801</td></tr>\n",
       "\t<tr><td>Fair     </td><td> 1230</td><td> 3.040566</td></tr>\n",
       "</tbody>\n",
       "</table>\n"
      ],
      "text/latex": [
       "A tibble: 5 × 3\n",
       "\\begin{tabular}{lll}\n",
       " cut & n & percent\\\\\n",
       " <fct> & <int> & <dbl>\\\\\n",
       "\\hline\n",
       "\t Ideal     & 16125 & 39.861073\\\\\n",
       "\t Premium   & 10327 & 25.528391\\\\\n",
       "\t Good      &  3691 &  9.124169\\\\\n",
       "\t Very Good &  9080 & 22.445801\\\\\n",
       "\t Fair      &  1230 &  3.040566\\\\\n",
       "\\end{tabular}\n"
      ],
      "text/markdown": [
       "\n",
       "A tibble: 5 × 3\n",
       "\n",
       "| cut &lt;fct&gt; | n &lt;int&gt; | percent &lt;dbl&gt; |\n",
       "|---|---|---|\n",
       "| Ideal     | 16125 | 39.861073 |\n",
       "| Premium   | 10327 | 25.528391 |\n",
       "| Good      |  3691 |  9.124169 |\n",
       "| Very Good |  9080 | 22.445801 |\n",
       "| Fair      |  1230 |  3.040566 |\n",
       "\n"
      ],
      "text/plain": [
       "  cut       n     percent  \n",
       "1 Ideal     16125 39.861073\n",
       "2 Premium   10327 25.528391\n",
       "3 Good       3691  9.124169\n",
       "4 Very Good  9080 22.445801\n",
       "5 Fair       1230  3.040566"
      ]
     },
     "metadata": {},
     "output_type": "display_data"
    }
   ],
   "source": [
    "# Maiah 2\n",
    "\n",
    "# Reading in the data set\n",
    "url <- \"https://raw.githubusercontent.com/sadrakhosravi/g1-dsci-project/main/diamonds.csv\"\n",
    "\n",
    "diamond_data <- read_csv(\"https://raw.githubusercontent.com/sadrakhosravi/g1-dsci-project/main/diamonds.csv\")\n",
    "\n",
    "# Tidy the data by making the cut a factor, changing color names to colorless and faint color, changing column names, and only selecting data needed.\n",
    "diamond_data <- diamond_data |>\n",
    "                 mutate(cut = as_factor(cut)) |>   # making cut a factor\n",
    "                 mutate(color = fct_recode(color, \"Colorless\" = \"D\", \"Colorless\" = \"E\", \"Colorless\" = \"F\" , \"Faint Color\" = \"G\", \"Faint Color\" = \"H\",\n",
    "                                           \"Faint Color\" = \"I\", \"Faint Color\" = \"J\")) |>  # changing names to correspond with color\n",
    "                 rename(length = x, width = y, depth = z, total_depth_percentage = depth) |> # renaming column names\n",
    "                 select(carat:color, total_depth_percentage:depth)  # taking out data not needed (clarity)\n",
    "diamond_data\n",
    "\n",
    "# Split diamond_data into training and test data\n",
    "diamond_split <- initial_split( diamond_data, prop = 0.75, strata = cut)\n",
    "diamond_train <- training(diamond_split)\n",
    "diamond_test <- testing(diamond_split)\n",
    "\n",
    "# Find proportions of each different type of cut based on training data. Also identifies if there are any NA's that need to be filtered out\n",
    "diamond_proportions <- diamond_train |>\n",
    "                      group_by(cut) |>\n",
    "                      summarize(n = n()) |>\n",
    "                      mutate(percent = 100*n/nrow(diamond_train))\n",
    "\n",
    "diamond_proportions\n",
    "\n"
   ]
  },
  {
   "cell_type": "code",
   "execution_count": null,
   "id": "a3b60678-2f28-42cd-9fe3-dfd71682d90b",
   "metadata": {},
   "outputs": [],
   "source": [
    "\n",
    "\n",
    "# Dhruv"
   ]
  },
  {
   "cell_type": "code",
   "execution_count": null,
   "id": "1e291da3-0cb3-4cb7-8d9f-bded1bd2ac6b",
   "metadata": {},
   "outputs": [],
   "source": [
    "# Dhruv 2"
   ]
  },
  {
   "cell_type": "code",
   "execution_count": null,
   "id": "977df60c-b7b3-4a64-9620-3f974bb98be1",
   "metadata": {},
   "outputs": [],
   "source": []
  }
 ],
 "metadata": {
  "kernelspec": {
   "display_name": "R",
   "language": "R",
   "name": "ir"
  },
  "language_info": {
   "codemirror_mode": "r",
   "file_extension": ".r",
   "mimetype": "text/x-r-source",
   "name": "R",
   "pygments_lexer": "r",
   "version": "4.2.2"
  },
  "widgets": {
   "application/vnd.jupyter.widget-state+json": {
    "state": {},
    "version_major": 2,
    "version_minor": 0
   }
  }
 },
 "nbformat": 4,
 "nbformat_minor": 5
}
