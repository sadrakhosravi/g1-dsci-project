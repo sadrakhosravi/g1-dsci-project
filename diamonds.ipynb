{
 "cells": [
  {
   "cell_type": "markdown",
   "id": "a58fe756-e0b9-4129-8341-f3bfb6c114bd",
   "metadata": {},
   "source": [
    "# Diamonds Data Analysis"
   ]
  },
  {
   "cell_type": "code",
   "execution_count": null,
   "id": "afc668d7-90b7-4713-bea5-f6195af30314",
   "metadata": {},
   "outputs": [],
   "source": []
  }
 ],
 "metadata": {
  "kernelspec": {
   "display_name": "R",
   "language": "R",
   "name": "ir"
  },
  "language_info": {
   "codemirror_mode": "r",
   "file_extension": ".r",
   "mimetype": "text/x-r-source",
   "name": "R",
   "pygments_lexer": "r",
   "version": "4.3.1"
  }
 },
 "nbformat": 4,
 "nbformat_minor": 5
}
