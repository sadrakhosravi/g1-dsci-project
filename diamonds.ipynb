{
 "cells": [
  {
   "cell_type": "markdown",
   "id": "a58fe756-e0b9-4129-8341-f3bfb6c114bd",
   "metadata": {},
   "source": [
    "# Diamonds Data Analysis"
   ]
  },
  {
   "cell_type": "code",
   "execution_count": null,
   "id": "afc668d7-90b7-4713-bea5-f6195af30314",
   "metadata": {},
   "outputs": [],
   "source": [
    "# Sadra\n",
    "# testsdasd"
   ]
  },
  {
   "cell_type": "code",
   "execution_count": null,
   "id": "dfd2c4fb-9d2a-4388-a9cc-723adf4487bb",
   "metadata": {},
   "outputs": [],
   "source": [
    "# Sadra 2"
   ]
  },
  {
   "cell_type": "code",
   "execution_count": null,
   "id": "ebefe581-e6a2-4b5a-a19b-8cb4467fe396",
   "metadata": {},
   "outputs": [],
   "source": [
    "# Joshua"
   ]
  },
  {
   "cell_type": "code",
   "execution_count": null,
   "id": "2cd23938-a2e3-41c5-8d60-bcfa64afc8fc",
   "metadata": {},
   "outputs": [],
   "source": [
    "# Joshua 2"
   ]
  },
  {
   "cell_type": "code",
   "execution_count": null,
   "id": "e917de1c-fbb7-406e-829c-6a5f44fa2554",
   "metadata": {},
   "outputs": [],
   "source": [
    "# Maiah\n",
    "#test "
   ]
  },
  {
   "cell_type": "code",
   "execution_count": null,
   "id": "7ba7ed56-2b87-4ef9-b893-c75f223e723c",
   "metadata": {},
   "outputs": [],
   "source": [
    "# Maiah 2"
   ]
  },
  {
   "cell_type": "code",
   "execution_count": null,
   "id": "a3b60678-2f28-42cd-9fe3-dfd71682d90b",
   "metadata": {},
   "outputs": [],
   "source": [
    "# Dhruv"
   ]
  },
  {
   "cell_type": "code",
   "execution_count": null,
   "id": "1e291da3-0cb3-4cb7-8d9f-bded1bd2ac6b",
   "metadata": {},
   "outputs": [],
   "source": [
    "# Dhruv 2"
   ]
  },
  {
   "cell_type": "code",
   "execution_count": null,
   "id": "977df60c-b7b3-4a64-9620-3f974bb98be1",
   "metadata": {},
   "outputs": [],
   "source": []
  }
 ],
 "metadata": {
  "kernelspec": {
   "display_name": "R",
   "language": "R",
   "name": "ir"
  },
  "language_info": {
   "codemirror_mode": "r",
   "file_extension": ".r",
   "mimetype": "text/x-r-source",
   "name": "R",
   "pygments_lexer": "r",
   "version": "4.2.2"
  },
  "widgets": {
   "application/vnd.jupyter.widget-state+json": {
    "state": {},
    "version_major": 2,
    "version_minor": 0
   }
  }
 },
 "nbformat": 4,
 "nbformat_minor": 5
}
